{
 "cells": [
  {
   "attachments": {},
   "cell_type": "markdown",
   "metadata": {},
   "source": [
    "# DFS - Depth First Search\n",
    "Com recursão"
   ]
  },
  {
   "cell_type": "code",
   "execution_count": 1,
   "metadata": {},
   "outputs": [],
   "source": [
    "g = [\n",
    "    [2,4],\n",
    "    [0,5],\n",
    "    [3,5,6],\n",
    "    [2,6,7],\n",
    "    [0],\n",
    "    [1,6],\n",
    "    [2,3,5,7],\n",
    "    [3,6],\n",
    "    []\n",
    "]"
   ]
  },
  {
   "cell_type": "code",
   "execution_count": 30,
   "metadata": {},
   "outputs": [],
   "source": [
    "def visite(v, visited):\n",
    "    visited[v] = True\n",
    "    print(v)\n",
    "\n",
    "    for u in g[v]:\n",
    "        if not visited[u]:\n",
    "            visite(u, visited)\n",
    "\n",
    "def dfs(start, end):\n",
    "    visited = [False for i in range(len(g))]\n",
    "    visite(start, visited)"
   ]
  },
  {
   "cell_type": "code",
   "execution_count": 31,
   "metadata": {},
   "outputs": [
    {
     "name": "stdout",
     "output_type": "stream",
     "text": [
      "0\n",
      "2\n",
      "3\n",
      "6\n",
      "5\n",
      "1\n",
      "7\n",
      "4\n"
     ]
    }
   ],
   "source": [
    "dfs(0, 2)"
   ]
  }
 ],
 "metadata": {
  "kernelspec": {
   "display_name": "Python 3",
   "language": "python",
   "name": "python3"
  },
  "language_info": {
   "codemirror_mode": {
    "name": "ipython",
    "version": 3
   },
   "file_extension": ".py",
   "mimetype": "text/x-python",
   "name": "python",
   "nbconvert_exporter": "python",
   "pygments_lexer": "ipython3",
   "version": "3.10.6"
  },
  "orig_nbformat": 4
 },
 "nbformat": 4,
 "nbformat_minor": 2
}
