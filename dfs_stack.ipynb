{
 "cells": [
  {
   "attachments": {},
   "cell_type": "markdown",
   "metadata": {},
   "source": [
    "# DFS - Depth First Search (Busca em profundidade)"
   ]
  },
  {
   "cell_type": "code",
   "execution_count": 14,
   "metadata": {},
   "outputs": [],
   "source": [
    "g = [\n",
    "    [2,4],\n",
    "    [0,5],\n",
    "    [3,5,6],\n",
    "    [2,6,7],\n",
    "    [0],\n",
    "    [1,6],\n",
    "    [2,3,5,7],\n",
    "    [3,6],\n",
    "    []\n",
    "]"
   ]
  },
  {
   "attachments": {},
   "cell_type": "markdown",
   "metadata": {},
   "source": [
    "## Maneira 1\n",
    "Dessa maneira, todos os filhos não visitados sempre são adicionados à pilha, mesmo que já estejam nela."
   ]
  },
  {
   "cell_type": "code",
   "execution_count": 20,
   "metadata": {},
   "outputs": [],
   "source": [
    "def dfs(g, start, end):\n",
    "\n",
    "    stack = [start]\n",
    "    info = [{\"seen\": False} for i in range(len(g))]\n",
    "\n",
    "    while len(stack) > 0:\n",
    "        print(stack)\n",
    "        curr = stack.pop()\n",
    "\n",
    "        if not info[curr][\"seen\"]:\n",
    "            info[curr][\"seen\"] = True\n",
    "\n",
    "            print(curr)\n",
    "\n",
    "        for v in g[curr]:\n",
    "            if not info[v][\"seen\"]:\n",
    "                stack.append(v)"
   ]
  },
  {
   "cell_type": "code",
   "execution_count": 21,
   "metadata": {},
   "outputs": [
    {
     "name": "stdout",
     "output_type": "stream",
     "text": [
      "[0]\n",
      "0\n",
      "[1, 4]\n",
      "4\n",
      "[1]\n",
      "1\n",
      "[5]\n",
      "5\n",
      "[6]\n",
      "6\n",
      "[2, 3, 7]\n",
      "7\n",
      "[2, 3, 3]\n",
      "3\n",
      "[2, 3, 2]\n",
      "2\n",
      "[2, 3]\n",
      "[2]\n"
     ]
    }
   ],
   "source": [
    "dfs(g, 0, -1)"
   ]
  },
  {
   "attachments": {},
   "cell_type": "markdown",
   "metadata": {},
   "source": [
    "## Maneira 2\n",
    "Dessa maneira, cada node pode estar nos estados NÃO VISITADO, PARA SER VISITADO e VISITADO. Caso já esteja PARA SER VISITADO, não será  adicionado à pilha."
   ]
  },
  {
   "cell_type": "code",
   "execution_count": null,
   "metadata": {},
   "outputs": [],
   "source": [
    "def dfs2(g, start, end):\n",
    "\n",
    "    stack = [start]\n",
    "    info = [{\"seen\": False} for i in range(len(g))]\n",
    "\n",
    "    while len(stack) > 0:\n",
    "        print(stack)\n",
    "        curr = stack.pop()\n",
    "\n",
    "        if not info[curr][\"seen\"]:\n",
    "            info[curr][\"seen\"] = True\n",
    "\n",
    "            print(curr)\n",
    "\n",
    "        for v in g[curr]:\n",
    "            if not info[v][\"seen\"]:\n",
    "                stack.append(v)"
   ]
  }
 ],
 "metadata": {
  "kernelspec": {
   "display_name": "Python 3",
   "language": "python",
   "name": "python3"
  },
  "language_info": {
   "codemirror_mode": {
    "name": "ipython",
    "version": 3
   },
   "file_extension": ".py",
   "mimetype": "text/x-python",
   "name": "python",
   "nbconvert_exporter": "python",
   "pygments_lexer": "ipython3",
   "version": "3.10.6"
  },
  "orig_nbformat": 4,
  "vscode": {
   "interpreter": {
    "hash": "916dbcbb3f70747c44a77c7bcd40155683ae19c65e1c03b4aa3499c5328201f1"
   }
  }
 },
 "nbformat": 4,
 "nbformat_minor": 2
}
