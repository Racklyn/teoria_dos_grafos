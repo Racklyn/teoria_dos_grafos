{
 "cells": [
  {
   "attachments": {},
   "cell_type": "markdown",
   "metadata": {},
   "source": [
    "# Busca por largura - BFS"
   ]
  },
  {
   "cell_type": "code",
   "execution_count": 35,
   "metadata": {},
   "outputs": [],
   "source": [
    "from math import inf\n",
    "\n",
    "def bfs(grafo, inicial, final):\n",
    "    agenda = [inicial]\n",
    "\n",
    "    # 0: ñ visitado; 1: a ser visitado; 2: visitado\n",
    "    info=[{'visitado': 0, 'distanciaPara': inf, 'pai': None} for _ in range(len(grafo))]\n",
    "    \n",
    "    info[inicial][\"distanciaPara\"] = 0\n",
    "\n",
    "    while len(agenda) > 0:\n",
    "        atual = agenda.pop(0)\n",
    "        info[atual][\"visitado\"] = 2\n",
    "\n",
    "        print(atual)\n",
    "        if atual == final:\n",
    "            print(\"Encontrou \", final)\n",
    "            break\n",
    "        else:\n",
    "            for v in grafo[atual]:\n",
    "                if info[v][\"visitado\"]==0:\n",
    "                    agenda.append(v)\n",
    "                    info[v][\"visitado\"] = 1\n",
    "                    info[v][\"distanciaPara\"] = info[atual][\"distanciaPara\"]+1\n",
    "                    info[v][\"pai\"] = atual\n",
    "\n",
    "    print(f'Distância para {final}: {info[final][\"distanciaPara\"]}')\n",
    "    for i in info:\n",
    "        print(i)"
   ]
  },
  {
   "cell_type": "code",
   "execution_count": 29,
   "metadata": {},
   "outputs": [],
   "source": [
    "# def bfs(grafo, inicial, final):\n",
    "#     agenda = [inicial]\n",
    "\n",
    "#     visitados=[0]*len(grafo) # 0: ñ visitado; 1: a ser visitado; 2: visitado\n",
    "#     distanciasPara = [0]*len(grafo)\n",
    "\n",
    "\n",
    "#     while len(agenda) > 0:\n",
    "#         atual = agenda.pop(0)\n",
    "#         visitados[atual] = 2\n",
    "\n",
    "#         print(atual)\n",
    "#         if atual == final:\n",
    "#             print(\"Encontrou \", final)\n",
    "#             break\n",
    "#         else:\n",
    "#             for v in grafo[atual]:\n",
    "#                 if visitados[v]==0:\n",
    "#                     agenda.append(v)\n",
    "#                     visitados[v] = 1\n",
    "#                     distanciasPara[v] = distanciasPara[atual]+1\n",
    "\n",
    "#     print(f'Distância para {final}: {distanciasPara[final]}')\n",
    "#     print(distanciasPara)"
   ]
  },
  {
   "cell_type": "code",
   "execution_count": 20,
   "metadata": {},
   "outputs": [],
   "source": [
    "# grafo = [\n",
    "#     [1,2,5],\n",
    "#     [0,3],\n",
    "#     [0,3,4],\n",
    "#     [1,2,4],\n",
    "#     [2,3,6],\n",
    "#     [0,6],\n",
    "#     [4,5]\n",
    "# ]\n",
    "\n",
    "g = [\n",
    "    [1,4],\n",
    "    [0,5],\n",
    "    [3,5,6],\n",
    "    [2,6,7],\n",
    "    [0],\n",
    "    [1,6],\n",
    "    [2,3,5,7],\n",
    "    [3,6],\n",
    "    []\n",
    "]"
   ]
  },
  {
   "cell_type": "code",
   "execution_count": 36,
   "metadata": {},
   "outputs": [
    {
     "name": "stdout",
     "output_type": "stream",
     "text": [
      "1\n",
      "0\n",
      "5\n",
      "4\n",
      "6\n",
      "2\n",
      "3\n",
      "7\n",
      "Distância para -1: inf\n",
      "{'visitado': 2, 'distanciaPara': 1, 'pai': 1}\n",
      "{'visitado': 2, 'distanciaPara': 0, 'pai': None}\n",
      "{'visitado': 2, 'distanciaPara': 3, 'pai': 6}\n",
      "{'visitado': 2, 'distanciaPara': 3, 'pai': 6}\n",
      "{'visitado': 2, 'distanciaPara': 2, 'pai': 0}\n",
      "{'visitado': 2, 'distanciaPara': 1, 'pai': 1}\n",
      "{'visitado': 2, 'distanciaPara': 2, 'pai': 5}\n",
      "{'visitado': 2, 'distanciaPara': 3, 'pai': 6}\n",
      "{'visitado': 0, 'distanciaPara': inf, 'pai': None}\n"
     ]
    }
   ],
   "source": [
    "bfs(g, 1, -1)"
   ]
  }
 ],
 "metadata": {
  "kernelspec": {
   "display_name": "Python 3",
   "language": "python",
   "name": "python3"
  },
  "language_info": {
   "codemirror_mode": {
    "name": "ipython",
    "version": 3
   },
   "file_extension": ".py",
   "mimetype": "text/x-python",
   "name": "python",
   "nbconvert_exporter": "python",
   "pygments_lexer": "ipython3",
   "version": "3.10.6"
  },
  "orig_nbformat": 4,
  "vscode": {
   "interpreter": {
    "hash": "916dbcbb3f70747c44a77c7bcd40155683ae19c65e1c03b4aa3499c5328201f1"
   }
  }
 },
 "nbformat": 4,
 "nbformat_minor": 2
}
